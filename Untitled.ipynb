{
 "cells": [
  {
   "cell_type": "markdown",
   "metadata": {},
   "source": [
    "## List Comprehension"
   ]
  },
  {
   "cell_type": "markdown",
   "metadata": {},
   "source": [
    "파이썬은 map, filter와 같은 함수형 기능을 지원하며, 다음과 같은 람다 표현식도 지원한다."
   ]
  },
  {
   "cell_type": "code",
   "execution_count": 1,
   "metadata": {},
   "outputs": [
    {
     "data": {
      "text/plain": [
       "[11, 12, 13]"
      ]
     },
     "execution_count": 1,
     "metadata": {},
     "output_type": "execute_result"
    }
   ],
   "source": [
    "list(map(lambda x:x+10,[1,2,3]))"
   ]
  },
  {
   "cell_type": "markdown",
   "metadata": {},
   "source": [
    "파이썬의 매우 유용한 기능인 리스트 컴프리헨션에 대해서 알아보자. <br>\n",
    "리스트 컴프리헨션이란, 기존의 리스트를 기반으로 새로운 리스트를 만들어내는 구문으로, 파이썬의 대표적인 특징이기도 하다. <br>\n",
    "무엇보다 람다 표현식에 map이나 filter를 섞어서 쓰는 것보다 훨씬 가독성이 높다. "
   ]
  },
  {
   "cell_type": "markdown",
   "metadata": {},
   "source": [
    "다음은 홀수인 경우, 2를 곱해서 출력하라는 리스트 컴프리헨션이다."
   ]
  },
  {
   "cell_type": "code",
   "execution_count": 2,
   "metadata": {},
   "outputs": [
    {
     "data": {
      "text/plain": [
       "[2, 6, 10, 14, 18]"
      ]
     },
     "execution_count": 2,
     "metadata": {},
     "output_type": "execute_result"
    }
   ],
   "source": [
    "[n*2 for n in range(1,10+1) if(n%2==1)]"
   ]
  },
  {
   "cell_type": "markdown",
   "metadata": {},
   "source": [
    "만약 리스트 컴프리헨션 기능을 사용하지 않는다면, 다음과 같이 길게 풀어서 작성해야 한다. <br>"
   ]
  },
  {
   "cell_type": "code",
   "execution_count": 3,
   "metadata": {},
   "outputs": [
    {
     "name": "stdout",
     "output_type": "stream",
     "text": [
      "[2, 6, 10, 14, 18]\n"
     ]
    }
   ],
   "source": [
    "a = []\n",
    "for n in range(1,10+1):\n",
    "    if n%2 == 1:\n",
    "        a.append(n*2)\n",
    "print(a)"
   ]
  },
  {
   "cell_type": "markdown",
   "metadata": {},
   "source": [
    "풀어서 작성한 코드는 리스트 컴프리헨션에 비해 훨씬 더 길어졌고, a라는 별도의 리스트 변수 또한 필요해졌다. <br>\n",
    "리스트 컴프리헨션과 비교했을 때, 라인 수가 많이 증가했다. <br>\n",
    "물론, 리스트 컴프리헨션이라고 반드시 리스트만 가능한 것은 아니다. <br> \n",
    "최근에는 리스트 이외에도 딕셔너리 등이 가능하도록 추가됐다."
   ]
  },
  {
   "cell_type": "markdown",
   "metadata": {},
   "source": [
    "## Generator"
   ]
  },
  {
   "cell_type": "code",
   "execution_count": null,
   "metadata": {},
   "outputs": [],
   "source": []
  }
 ],
 "metadata": {
  "kernelspec": {
   "display_name": "Python 3",
   "language": "python",
   "name": "python3"
  },
  "language_info": {
   "codemirror_mode": {
    "name": "ipython",
    "version": 3
   },
   "file_extension": ".py",
   "mimetype": "text/x-python",
   "name": "python",
   "nbconvert_exporter": "python",
   "pygments_lexer": "ipython3",
   "version": "3.8.5"
  }
 },
 "nbformat": 4,
 "nbformat_minor": 4
}
