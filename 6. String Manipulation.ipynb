{
 "cells": [
  {
   "cell_type": "markdown",
   "metadata": {},
   "source": [
    "## String Manipulation"
   ]
  },
  {
   "cell_type": "markdown",
   "metadata": {},
   "source": [
    "문자열 조작이란, 문자열을 변경하거나 분리하는 등의 여러 과정을 말합니다. <br>\n",
    "원래 문자열은 로우 레벨에서 조작하거나, C처럼 문자형이 따로 없는 언어에서는 조작이 매우 까다로운 편입니다. <br>\n",
    "파이썬의 큰 장점이기도 한, 매우 자주 출제되는 문자열 관련 유형들을 다뤄본다. "
   ]
  },
  {
   "cell_type": "markdown",
   "metadata": {},
   "source": [
    "## 유효한 팰린드롬"
   ]
  },
  {
   "cell_type": "markdown",
   "metadata": {},
   "source": [
    "https://leetcode.com/problems/valid-palindrome/"
   ]
  },
  {
   "cell_type": "markdown",
   "metadata": {},
   "source": [
    "팰린드롬이란...? <br>\n",
    "앞뒤가 똑같은 단어나 문장으로, 뒤집어도 같은 말이 되는 단어 또는 문장을 팰린드롬(Palindrome)이라고 한다. <br>\n",
    "우리말로는 '회문'이라고 부르며, 문장 중에서는 대표적으로 '소주 만 병만 주소' 같은 문장이 이에 해당한다. <br>\n",
    "이 문장은 뒤집어도 같은 문장이 된다. <br>\n",
    "이러한 팰린드롬의 특징을 응용하면 여러 가지 재미있는 문제들을 많이 만들어낼 수 있기 때문에 코테에 매우 자주 출제된다. <br>"
   ]
  },
  {
   "cell_type": "markdown",
   "metadata": {},
   "source": [
    "### 시도."
   ]
  },
  {
   "cell_type": "code",
   "execution_count": 48,
   "metadata": {},
   "outputs": [],
   "source": [
    "def solution(sen:str)->bool:\n",
    "    sen.replace(\" \",\"\")\n",
    "    sen = sen.lower()\n",
    "    result = \"\"\n",
    "    for i in range(len(sen)):\n",
    "        if(sen[i].isalpha()):\n",
    "            result += sen[i]\n",
    "            \n",
    "    # 두 개의 기준점 생성\n",
    "    left = 0\n",
    "    right  = len(result)-1\n",
    "    \n",
    "    # 팰린드롬 여부 판별\n",
    "    while(True):\n",
    "        if(result[left] != result[right]):\n",
    "            return False\n",
    "        left += 1\n",
    "        right -= 1\n",
    "        if(left > right):\n",
    "            break\n",
    "    return True"
   ]
  },
  {
   "cell_type": "code",
   "execution_count": 49,
   "metadata": {},
   "outputs": [
    {
     "name": "stdout",
     "output_type": "stream",
     "text": [
      "True\n"
     ]
    }
   ],
   "source": [
    "print(solution(\"A man, a plan, a canal: panama\"))"
   ]
  },
  {
   "cell_type": "code",
   "execution_count": 50,
   "metadata": {},
   "outputs": [
    {
     "name": "stdout",
     "output_type": "stream",
     "text": [
      "False\n"
     ]
    }
   ],
   "source": [
    "print(solution(\"race a car\"))"
   ]
  },
  {
   "cell_type": "markdown",
   "metadata": {},
   "source": [
    "### 아이디어"
   ]
  },
  {
   "cell_type": "markdown",
   "metadata": {},
   "source": [
    "문장을 받아와서 예시를 통해서 알 수 있듯이, 빈칸과 대소문자를 통일시킨다. <br>\n",
    "그 다음에는 기준점을 2개 잡아서 조작해가면서 인덱스별로 비교해가면서 결과를 도출한다. "
   ]
  },
  {
   "cell_type": "code",
   "execution_count": 51,
   "metadata": {},
   "outputs": [],
   "source": [
    "# replace 활용 => 빈칸을 없애줄 때 활용함.\n",
    "# EX) str.replace(\"필요 없는 것 \",\"필요한 것\")\n",
    "# upper & lower 활용 => 대소문자 통일 시에 활용함."
   ]
  },
  {
   "cell_type": "markdown",
   "metadata": {},
   "source": [
    "### 1. 리스트로 변환 풀이"
   ]
  },
  {
   "cell_type": "code",
   "execution_count": 56,
   "metadata": {},
   "outputs": [],
   "source": [
    " def solution(sen:str)->bool:\n",
    "    temp = []\n",
    "    for char in sen:\n",
    "        if char.isalnum():\n",
    "            temp.append(char.lower())\n",
    "    \n",
    "    # 팰린드롬 여부 판별\n",
    "    while(len(temp) >1):\n",
    "        if temp.pop(0) != temp.pop():\n",
    "            return False\n",
    "    return True"
   ]
  },
  {
   "cell_type": "code",
   "execution_count": 53,
   "metadata": {},
   "outputs": [
    {
     "name": "stdout",
     "output_type": "stream",
     "text": [
      "True\n"
     ]
    }
   ],
   "source": [
    "print(solution(\"A man, a plan, a canal: panama\"))"
   ]
  },
  {
   "cell_type": "code",
   "execution_count": 54,
   "metadata": {},
   "outputs": [
    {
     "name": "stdout",
     "output_type": "stream",
     "text": [
      "False\n"
     ]
    }
   ],
   "source": [
    "print(solution(\"race a car\"))"
   ]
  },
  {
   "cell_type": "markdown",
   "metadata": {},
   "source": [
    "시도했던 풀이는 문자열을 새롭게 정의한 상태로 손대지 않고 확인만 하는 풀이였는데, <br> \n",
    "리스트라는 자료구조에 큐 기능을 입혀서 풀이했다.  <br>\n",
    "다만, pop(0)이라는 것의 특성상 O(n)이라는 것을 고려했을 때, 더 효과적인 코드를 짤 수 있을 듯하다."
   ]
  },
  {
   "cell_type": "markdown",
   "metadata": {},
   "source": [
    "### 2. 데큐 자료형을 이용한 최적화"
   ]
  },
  {
   "cell_type": "markdown",
   "metadata": {},
   "source": [
    "위에서 명시했지만, 리스트만을 이용해서도 충분히 문제를 해결할 수 있지만, <br>\n",
    "데크(Deque)를 명시적으로 선언하면 좀 더 속도를 높일 수 있다. "
   ]
  },
  {
   "cell_type": "code",
   "execution_count": 57,
   "metadata": {},
   "outputs": [],
   "source": [
    "import collections"
   ]
  },
  {
   "cell_type": "code",
   "execution_count": 61,
   "metadata": {},
   "outputs": [],
   "source": [
    "def solution(sen:str)->bool:\n",
    "    temp = collections.deque()\n",
    "    \n",
    "    for char in sen:\n",
    "        if char.isalnum():\n",
    "            temp.append(char.lower())\n",
    "    \n",
    "    # 팰린드롬 여부 판별\n",
    "    while(len(temp) >1):\n",
    "        if temp.popleft() != temp.pop():\n",
    "            return False\n",
    "    return True"
   ]
  },
  {
   "cell_type": "code",
   "execution_count": 62,
   "metadata": {},
   "outputs": [
    {
     "name": "stdout",
     "output_type": "stream",
     "text": [
      "True\n"
     ]
    }
   ],
   "source": [
    "print(solution(\"A man, a plan, a canal: panama\"))"
   ]
  },
  {
   "cell_type": "code",
   "execution_count": 71,
   "metadata": {},
   "outputs": [
    {
     "name": "stdout",
     "output_type": "stream",
     "text": [
      "False\n"
     ]
    }
   ],
   "source": [
    "print(solution(\"race a car\"))"
   ]
  },
  {
   "cell_type": "markdown",
   "metadata": {},
   "source": [
    "데큐 자료형을 사용함으로써 pop(0)의 O(n) 시간 복잡도를 <br>\n",
    "popleft()의 O(1) 시간 복잡도로 줄일 수 있었다. <br>\n",
    "결과적으로 단순 리스트를 활용하면 시간복잡도가 n인 행위를 n/2번(pop하다보면 대충) 즉, O(n^2)이 나오고, <br>\n",
    "데큐 자료형을 활용하면 시간복잡도가 1인 pop행위를 n/2번 즉, O(n)이 걸려서 성능차이를 개선할 수 있다."
   ]
  },
  {
   "cell_type": "markdown",
   "metadata": {},
   "source": [
    "### 3. 정규 표현식 & 슬라이싱 활용"
   ]
  },
  {
   "cell_type": "code",
   "execution_count": 68,
   "metadata": {},
   "outputs": [],
   "source": [
    "import re\n",
    "def solution(sen:str)->bool:\n",
    "    sen = sen.lower()\n",
    "    #정규식으로 불필요한 문자 필터링\n",
    "    sen = re.sub('[^a-z0-9]','',sen)\n",
    "    \n",
    "    return sen == sen[::-1] # 슬라이싱"
   ]
  },
  {
   "cell_type": "code",
   "execution_count": 69,
   "metadata": {},
   "outputs": [
    {
     "name": "stdout",
     "output_type": "stream",
     "text": [
      "True\n"
     ]
    }
   ],
   "source": [
    "print(solution(\"A man, a plan, a canal: panama\"))"
   ]
  },
  {
   "cell_type": "code",
   "execution_count": 70,
   "metadata": {},
   "outputs": [
    {
     "name": "stdout",
     "output_type": "stream",
     "text": [
      "False\n"
     ]
    }
   ],
   "source": [
    "print(solution(\"race a car\"))"
   ]
  },
  {
   "cell_type": "markdown",
   "metadata": {},
   "source": [
    "파이썬은 문자열을 배열이나 리스트처럼 자유롭게 슬라이싱할 수 있는 좋은 기능을 제공한다. <br>\n",
    "또한 [::-1]을 이용하면 뒤집을 수 있다. <br>\n",
    "코드가 훨씬 더 줄어듦은 물론, 내부적으로 C로 빠르게 구현되어 있어 훨씬 더 좋은 속도를 기대할 수 있다. <br>\n"
   ]
  },
  {
   "cell_type": "code",
   "execution_count": null,
   "metadata": {},
   "outputs": [],
   "source": []
  }
 ],
 "metadata": {
  "kernelspec": {
   "display_name": "Python 3",
   "language": "python",
   "name": "python3"
  },
  "language_info": {
   "codemirror_mode": {
    "name": "ipython",
    "version": 3
   },
   "file_extension": ".py",
   "mimetype": "text/x-python",
   "name": "python",
   "nbconvert_exporter": "python",
   "pygments_lexer": "ipython3",
   "version": "3.8.5"
  }
 },
 "nbformat": 4,
 "nbformat_minor": 4
}
